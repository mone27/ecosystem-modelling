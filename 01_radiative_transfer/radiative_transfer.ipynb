{
 "cells": [
  {
   "cell_type": "markdown",
   "id": "1c87d57c-c7ba-40b9-b530-f570e34ba3cd",
   "metadata": {},
   "source": [
    "# Two-stream aproximation shortwave"
   ]
  },
  {
   "cell_type": "markdown",
   "id": "25f1f7c8-e926-4217-9b19-91ab77c0b017",
   "metadata": {},
   "source": []
  },
  {
   "cell_type": "code",
   "execution_count": 2,
   "id": "8edd0ee9-f83b-4ceb-bb35-38844412b97b",
   "metadata": {},
   "outputs": [
    {
     "data": {
      "text/plain": [
       "get_day_LAI (generic function with 1 method)"
      ]
     },
     "execution_count": 2,
     "metadata": {},
     "output_type": "execute_result"
    }
   ],
   "source": [
    "import Dates\n",
    "\n",
    "#' Simple model to get current LAI\n",
    "#'\n",
    "#' Use a simple model to get the LAI of the different day of the year.\n",
    "#' It has 4 phases:\n",
    "#'  - Winter: from leaf_fall_complete to leaf_out -> LAI = 0\n",
    "#'  - Spring: from leaf_out to leaf_full -> linear growth from 0 to max_LAI\n",
    "#'  - Summer: from leaf_full to leaf_fall -> LAI = max_LAI\n",
    "#'  - Fall: from leaf_fall to leaf_fall_complete -> linear decrease from max_LAI to 0\n",
    "#' The 4 paramenters (leaf_out...) are the day of the year\n",
    "#'\n",
    "#' @param time a datetime object\n",
    "#' @param max_LAI max LAI value in the summer\n",
    "#' @param min_LAI min value of LAI during winter, it is an aproximation that consider the total Plant Area Index as LAI\n",
    "#' @param leaf_out day leaves start in spring\n",
    "#' @param leaf_full day leaves reach max LAI\n",
    "#' @param leaf_fall day leaves start to fall\n",
    "#' @param leaf_fall_complete day all leaves are fallen\n",
    "#' \n",
    "#' @return LAI Leaf Area Index value for the day of the year\n",
    "function get_day_LAI(datetime, max_LAI, min_LAI, leaf_out, leaf_full, leaf_fall, leaf_fall_complete)\n",
    "\n",
    "    yday = Dates.dayofyear(datetime)\n",
    "    if (yday < leaf_out)  # before leaves are out LAI is min\n",
    "        return(min_LAI)\n",
    "    end\n",
    "    if (yday >= leaf_out & yday < leaf_full ) \n",
    "        ndays =  leaf_full - leaf_out # n days of the transition\n",
    "        return((max_LAI - min_LAI) * (yday - leaf_out) / ndays + min_LAI)\n",
    "    end\n",
    "    if (yday >= leaf_full & yday < leaf_fall ) \n",
    "        return(max_LAI)\n",
    "    end\n",
    "    if (yday >= leaf_fall & yday < leaf_fall_complete ) \n",
    "        ndays =  leaf_fall_complete - leaf_fall # n days of the transition\n",
    "        return((max_LAI - min_LAI) * (leaf_fall_complete - yday) / ndays + min_LAI)\n",
    "    end\n",
    "    if (yday >= leaf_fall_complete)\n",
    "        return(min_LAI)\n",
    "    end\n",
    "end"
   ]
  },
  {
   "cell_type": "code",
   "execution_count": null,
   "id": "30d76450-1a71-4004-98e9-7e8c0b03c423",
   "metadata": {},
   "outputs": [],
   "source": [
    "    \n",
    "#'  All the following function assumes a SPHERICAL leaves distribution\n",
    "#' Chapter 2.2\n",
    "\n",
    "\n",
    "#' Direct beam extiction coefficient\n",
    "\n",
    "#' @param zenith in degrees\n",
    "#' @return Kb\n",
    "get_Kb =function(zenith, max_Kb=20)\n",
    "    # Eq. 14.29\n",
    "    Kb = 0.5/cos(deg2rad(zenith)) # extinction coefficient\n",
    "    Kb = min(Kb, max_Kb) # Prevent the Kb to become too large at low sun angles.\n",
    "    # The default value of 20 is from the Bonan matlab code script sp_14_03 line 150\n",
    "    return(Kb)\n",
    "end"
   ]
  },
  {
   "cell_type": "code",
   "execution_count": null,
   "id": "255e2e7d-9dd6-4de0-a388-cb3cfd8c0afe",
   "metadata": {},
   "outputs": [],
   "source": [
    "#' Diffuse beam extiction coefficient\n",
    "#' @param LAI\n",
    "#' @return Kd\n",
    "function get_Kd(LAI)\n",
    "    G_z =  0.5\n",
    "\n",
    "    # Eq. 14.33\n",
    "    td =  0\n",
    "    for z in 0:pi / 18:pi / 4 # make 9 steps from 0 till π/2\n",
    "        td = td + exp( - G_z / cos(z) * LAI)*sin(z)*cos(z)*(pi / 18)\n",
    "    end\n",
    "\n",
    "    # Eq 14.34\n",
    "    Kd = -log(2 * td)/LAI\n",
    "    return(Kd)\n",
    "end"
   ]
  },
  {
   "cell_type": "markdown",
   "id": "85ad22b1-3143-4e2e-ae10-831ce77859f9",
   "metadata": {},
   "source": [
    "The two stream aproximation as a different $K_d$ coefficient"
   ]
  },
  {
   "cell_type": "code",
   "execution_count": null,
   "id": "6ae2cdb1-adf1-43bd-bd19-290014aa11c2",
   "metadata": {},
   "outputs": [],
   "source": [
    "function get_two_stream_Kd()\n",
    "    # Eq. 14.31\n",
    "    ross = 0.01 # should be zero but if is zero it mess up the computations.\n",
    "    # See Bonan matlab code script sp_14_03 line 130\n",
    "    phi_1 = 0.5 - 0.633 * ross - 0.333 * (ross)^2\n",
    "    phi_2 = 0.877 * (1 - 2 * phi_1 )\n",
    "    # Eq 14.80\n",
    "    Kd =  1 / (( 1 - phi_1/phi_2 * log((phi_1+phi_2)/phi_1) ) / phi_2)\n",
    "    return(Kd)\n",
    "end"
   ]
  },
  {
   "cell_type": "code",
   "execution_count": null,
   "id": "a1bdf836-b14a-40ba-a3e2-6a83362d17be",
   "metadata": {},
   "outputs": [],
   "source": [
    "#' Fraction of diffuse light scattered backward\n",
    "#' @param rho_leaf\n",
    "#' @param tau_leaf\n",
    "#' \n",
    "#' @return beta\n",
    "function get_beta(rho_leaf, tau_leaf) \n",
    "    # Derived from equations 14.81 following the book approximation for sperical distribution\n",
    "    beta = ( 0.625 * rho_leaf +  0.375 * tau_leaf ) / (rho_leaf + tau_leaf)\n",
    "    return(beta)\n",
    "\n",
    "end"
   ]
  },
  {
   "cell_type": "code",
   "execution_count": null,
   "id": "2992b8a3-712c-4755-b2a5-3552dff2e3cd",
   "metadata": {},
   "outputs": [],
   "source": [
    "#' Fraction of direct light scattered backward\n",
    "#' @param zenith in degrees\n",
    "#' @param Kb\n",
    "#' @param Kd\n",
    "#' @param omega_leaf\n",
    "#'\n",
    "#' @return beta0\n",
    "function get_beta0(zenith, Kb, Kd, omega_leaf)\n",
    "\n",
    "    # Eq. 14.31\n",
    "    ross = 0\n",
    "    phi_1 = 0.5 - 0.633 * ross - 0.333 * (ross)^2\n",
    "    phi_2 = 0.877 * (1 - 2 * phi_1 )\n",
    "\n",
    "    G_mu = 0.5 #mu is cos(Z) but G(Z) for sperical leaves distribution is costant\n",
    "    mu = cos(deg2rad(zenith))\n",
    "\n",
    "    # Equation 14.84\n",
    "\n",
    "    #defining commonly used terms\n",
    "    mphi_1 = mu * phi_1\n",
    "    mphi_2 = mu * phi_2\n",
    "\n",
    "    a_s = (\n",
    "    (omega_leaf / 2) * (G_mu) / (G_mu + mphi_2) *\n",
    "    (1 - (mphi_1/(G_mu + mphi_2) * log((G_mu + mphi_1 + mphi_2) / mphi_1)))\n",
    "    )\n",
    "\n",
    "    beta_0 =  (((Kb + Kd) / Kb) * a_s ) / omega_leaf\n",
    "    return(beta_0)\n",
    "end"
   ]
  },
  {
   "cell_type": "code",
   "execution_count": null,
   "id": "41916424-acce-4d58-8f5c-adcde8e20ef5",
   "metadata": {},
   "outputs": [],
   "source": [
    "function get_LAI_sunlit(LAI, Kb, clump_OMEGA)\n",
    "    # Eq.14.18 integrated in the same way of Eq. 14.12 (also line in Bonan Matlab code line script sp_14_03 line 167)\n",
    "    LAI_sunlit =  (1 - exp(- clump_OMEGA * Kb * LAI) )/ Kb\n",
    "    return(LAI_sunlit)\n",
    "end"
   ]
  }
 ],
 "metadata": {
  "kernelspec": {
   "display_name": "Julia 1.7 1.7.0",
   "language": "julia",
   "name": "julia-1.7-1.7"
  },
  "language_info": {
   "file_extension": ".jl",
   "mimetype": "application/julia",
   "name": "julia",
   "version": "1.7.0"
  }
 },
 "nbformat": 4,
 "nbformat_minor": 5
}
